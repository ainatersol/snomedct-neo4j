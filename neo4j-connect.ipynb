{
 "cells": [
  {
   "cell_type": "code",
   "execution_count": 2,
   "metadata": {},
   "outputs": [
    {
     "name": "stdout",
     "output_type": "stream",
     "text": [
      "Requirement already satisfied: neo4j in /Users/aina/opt/anaconda3/lib/python3.9/site-packages (5.14.1)\n",
      "Requirement already satisfied: pytz in /Users/aina/opt/anaconda3/lib/python3.9/site-packages (from neo4j) (2021.3)\n"
     ]
    }
   ],
   "source": [
    "!pip install neo4j"
   ]
  },
  {
   "cell_type": "code",
   "execution_count": 1,
   "metadata": {},
   "outputs": [],
   "source": [
    "from neo4j import GraphDatabase\n",
    "import pandas as pd"
   ]
  },
  {
   "cell_type": "code",
   "execution_count": 17,
   "metadata": {},
   "outputs": [],
   "source": [
    "uri = \"neo4j://localhost:7687\"  # Replace with your URI \n",
    "user = \"neo4j\"                 # Replace with your username\n",
    "password = \"19091998\"          # Replace with your password\n",
    "\n",
    "driver = GraphDatabase.driver(uri, auth=(user, password))"
   ]
  },
  {
   "cell_type": "code",
   "execution_count": 18,
   "metadata": {},
   "outputs": [],
   "source": [
    "class Neo4jConnection:\n",
    "    \n",
    "    def __init__(self, uri, user, password):\n",
    "        self.__uri = uri\n",
    "        self.__user = user\n",
    "        self.__password = password\n",
    "        self.__driver = None\n",
    "        try:\n",
    "            self.__driver = GraphDatabase.driver(self.__uri, auth=(self.__user, self.__password))\n",
    "        except Exception as e:\n",
    "            print(\"Failed to create the driver:\", e)\n",
    "        \n",
    "    def close(self):\n",
    "        if self.__driver is not None:\n",
    "            self.__driver.close()\n",
    "        \n",
    "    def execute_query(self, query):\n",
    "        if self.__driver is not None:\n",
    "            with self.__driver.session() as session:\n",
    "                return [record for record in session.run(query)]\n"
   ]
  },
  {
   "cell_type": "code",
   "execution_count": 19,
   "metadata": {},
   "outputs": [],
   "source": [
    "# label fields in the snomed ct graph\n",
    "\n",
    "q = \"\"\" MATCH (n:ObjectConcept)WHERE (n.FSN ENDS WITH '(finding)' or n.FSN ENDS WITH '(disorder)' )\n",
    "        SET n:SP\n",
    "        RETURN n LIMIT 10 \"\"\""
   ]
  },
  {
   "cell_type": "code",
   "execution_count": 27,
   "metadata": {},
   "outputs": [
    {
     "data": {
      "text/plain": [
       "'Local excision of lesion or tissue of patella'"
      ]
     },
     "execution_count": 27,
     "metadata": {},
     "output_type": "execute_result"
    }
   ],
   "source": [
    "conn = Neo4jConnection(uri, user, password)\n",
    "\n",
    "query = \"\"\" MATCH (c:SP_ALL)-[:HAS_DESCRIPTION]->(d:Description)\n",
    "            WHERE d.descriptionType = 'Synonym'\n",
    "            RETURN c.id AS ConceptId, c.FSN AS FSN_concept, d.term AS Synonym\n",
    "\"\"\"\n",
    "\n",
    "results = conn.execute_query(query)\n",
    "\n",
    "results[0]['Synonym']"
   ]
  },
  {
   "cell_type": "code",
   "execution_count": 28,
   "metadata": {},
   "outputs": [],
   "source": [
    "r_df = pd.DataFrame(results, columns=['ConceptId', 'FSN_concept', 'Synonym'])\n",
    "r_df.to_csv('SP_ALL_EXT.csv')"
   ]
  },
  {
   "cell_type": "code",
   "execution_count": null,
   "metadata": {},
   "outputs": [],
   "source": [
    "# Run faiss indexing on all the synonyms, find most similar word"
   ]
  },
  {
   "cell_type": "code",
   "execution_count": null,
   "metadata": {},
   "outputs": [],
   "source": [
    "# find node belonging to the synonym"
   ]
  },
  {
   "cell_type": "code",
   "execution_count": 18,
   "metadata": {},
   "outputs": [
    {
     "name": "stderr",
     "output_type": "stream",
     "text": [
      "/var/folders/fy/m2y3wbmn1lbcwm2rl2s60d_h0000gp/T/ipykernel_75512/1971303142.py:19: DeprecationWarning: Using a driver after it has been closed is deprecated. Future versions of the driver will raise an error.\n",
      "  with self.__driver.session() as session:\n"
     ]
    },
    {
     "name": "stdout",
     "output_type": "stream",
     "text": [
      "<Record distance=3>\n"
     ]
    }
   ],
   "source": [
    "# Find shortest path between concepts \n",
    "query = \"\"\" MATCH p = shortestPath((start:SP {id: \"249473004\"})-[*..10]-(end:SP {id: \"102608004\"}))\n",
    "            RETURN length(p) as distance \"\"\"\n",
    "\n",
    "results = conn.execute_query(query)\n",
    "\n",
    "for record in results:\n",
    "    print(record)"
   ]
  },
  {
   "cell_type": "code",
   "execution_count": 20,
   "metadata": {},
   "outputs": [
    {
     "name": "stderr",
     "output_type": "stream",
     "text": [
      "/var/folders/fy/m2y3wbmn1lbcwm2rl2s60d_h0000gp/T/ipykernel_75512/1971303142.py:19: DeprecationWarning: Using a driver after it has been closed is deprecated. Future versions of the driver will raise an error.\n",
      "  with self.__driver.session() as session:\n"
     ]
    },
    {
     "data": {
      "text/plain": [
       "[<Record p=<Path start=<Node element_id='4:0c414c0f-b769-4d23-ad25-650efdf1893b:99185' labels=frozenset({'Finding', 'SP', 'SPFindings', 'ObjectConcept'}) properties={'FSN': 'Excessive appetite (finding)', 'nodetype': 'concept', 'effectiveTime': '20080731', 'definitionStatusId': '900000000000073002', 'active': '1', 'history': '[{\"id\": \"102608004\", \"effectiveTime\": \"20020131\", \"active\": \"1\", \"moduleId\": \"900000000000207008\", \"definitionStatusId\": \"900000000000074008\"}]', 'id': '102608004', 'moduleId': '900000000000207008', 'sctid': '102608004'}> end=<Node element_id='4:0c414c0f-b769-4d23-ad25-650efdf1893b:240538' labels=frozenset({'Finding', 'SP', 'SPFindings', 'ObjectConcept'}) properties={'FSN': 'Altered appetite (finding)', 'nodetype': 'concept', 'effectiveTime': '20080731', 'definitionStatusId': '900000000000073002', 'active': '1', 'history': '[{\"id\": \"249473004\", \"effectiveTime\": \"20020131\", \"active\": \"1\", \"moduleId\": \"900000000000207008\", \"definitionStatusId\": \"900000000000074008\"}]', 'id': '249473004', 'moduleId': '900000000000207008', 'sctid': '249473004'}> size=3> distance=3 endNodeId='249473004' start.FSN='Excessive appetite (finding)' NameEndNode='Altered appetite (finding)'>,\n",
       " <Record p=<Path start=<Node element_id='4:0c414c0f-b769-4d23-ad25-650efdf1893b:99185' labels=frozenset({'Finding', 'SP', 'SPFindings', 'ObjectConcept'}) properties={'FSN': 'Excessive appetite (finding)', 'nodetype': 'concept', 'effectiveTime': '20080731', 'definitionStatusId': '900000000000073002', 'active': '1', 'history': '[{\"id\": \"102608004\", \"effectiveTime\": \"20020131\", \"active\": \"1\", \"moduleId\": \"900000000000207008\", \"definitionStatusId\": \"900000000000074008\"}]', 'id': '102608004', 'moduleId': '900000000000207008', 'sctid': '102608004'}> end=<Node element_id='4:0c414c0f-b769-4d23-ad25-650efdf1893b:279263' labels=frozenset({'Finding', 'SP', 'SPFindings', 'ObjectConcept'}) properties={'FSN': 'Finding of appetite (finding)', 'nodetype': 'concept', 'effectiveTime': '20080731', 'definitionStatusId': '900000000000073002', 'active': '1', 'history': '[{\"id\": \"289161009\", \"effectiveTime\": \"20020131\", \"active\": \"1\", \"moduleId\": \"900000000000207008\", \"definitionStatusId\": \"900000000000074008\"}]', 'id': '289161009', 'moduleId': '900000000000207008', 'sctid': '289161009'}> size=2> distance=2 endNodeId='289161009' start.FSN='Excessive appetite (finding)' NameEndNode='Finding of appetite (finding)'>,\n",
       " <Record p=<Path start=<Node element_id='4:0c414c0f-b769-4d23-ad25-650efdf1893b:99185' labels=frozenset({'Finding', 'SP', 'SPFindings', 'ObjectConcept'}) properties={'FSN': 'Excessive appetite (finding)', 'nodetype': 'concept', 'effectiveTime': '20080731', 'definitionStatusId': '900000000000073002', 'active': '1', 'history': '[{\"id\": \"102608004\", \"effectiveTime\": \"20020131\", \"active\": \"1\", \"moduleId\": \"900000000000207008\", \"definitionStatusId\": \"900000000000074008\"}]', 'id': '102608004', 'moduleId': '900000000000207008', 'sctid': '102608004'}> end=<Node element_id='4:0c414c0f-b769-4d23-ad25-650efdf1893b:214199' labels=frozenset({'SP', 'Disorder', 'SPFindings', 'ObjectConcept'}) properties={'FSN': '[X]Appetite depressants [anorectics] causing adverse effects in therapeutic use (disorder)', 'nodetype': 'concept', 'effectiveTime': '20090131', 'definitionStatusId': '900000000000074008', 'active': '0', 'history': '[{\"id\": \"223123009\", \"effectiveTime\": \"20020131\", \"active\": \"1\", \"moduleId\": \"900000000000207008\", \"definitionStatusId\": \"900000000000074008\"}]', 'id': '223123009', 'moduleId': '900000000000207008', 'sctid': '223123009'}> size=7> distance=7 endNodeId='223123009' start.FSN='Excessive appetite (finding)' NameEndNode='[X]Appetite depressants [anorectics] causing adverse effects in therapeutic use (disorder)'>,\n",
       " <Record p=<Path start=<Node element_id='4:0c414c0f-b769-4d23-ad25-650efdf1893b:99185' labels=frozenset({'Finding', 'SP', 'SPFindings', 'ObjectConcept'}) properties={'FSN': 'Excessive appetite (finding)', 'nodetype': 'concept', 'effectiveTime': '20080731', 'definitionStatusId': '900000000000073002', 'active': '1', 'history': '[{\"id\": \"102608004\", \"effectiveTime\": \"20020131\", \"active\": \"1\", \"moduleId\": \"900000000000207008\", \"definitionStatusId\": \"900000000000074008\"}]', 'id': '102608004', 'moduleId': '900000000000207008', 'sctid': '102608004'}> end=<Node element_id='4:0c414c0f-b769-4d23-ad25-650efdf1893b:279265' labels=frozenset({'Finding', 'SP', 'SPFindings', 'ObjectConcept'}) properties={'FSN': 'Appetite problem (finding)', 'nodetype': 'concept', 'effectiveTime': '20020131', 'definitionStatusId': '900000000000074008', 'active': '1', 'history': '', 'id': '289163007', 'moduleId': '900000000000207008', 'sctid': '289163007'}> size=3> distance=3 endNodeId='289163007' start.FSN='Excessive appetite (finding)' NameEndNode='Appetite problem (finding)'>,\n",
       " <Record p=<Path start=<Node element_id='4:0c414c0f-b769-4d23-ad25-650efdf1893b:99185' labels=frozenset({'Finding', 'SP', 'SPFindings', 'ObjectConcept'}) properties={'FSN': 'Excessive appetite (finding)', 'nodetype': 'concept', 'effectiveTime': '20080731', 'definitionStatusId': '900000000000073002', 'active': '1', 'history': '[{\"id\": \"102608004\", \"effectiveTime\": \"20020131\", \"active\": \"1\", \"moduleId\": \"900000000000207008\", \"definitionStatusId\": \"900000000000074008\"}]', 'id': '102608004', 'moduleId': '900000000000207008', 'sctid': '102608004'}> end=<Node element_id='4:0c414c0f-b769-4d23-ad25-650efdf1893b:64277' labels=frozenset({'Finding', 'SP', 'SPFindings', 'ObjectConcept'}) properties={'FSN': 'Decrease in appetite (finding)', 'nodetype': 'concept', 'effectiveTime': '20080731', 'definitionStatusId': '900000000000073002', 'active': '1', 'history': '[{\"id\": \"64379006\", \"effectiveTime\": \"20020131\", \"active\": \"1\", \"moduleId\": \"900000000000207008\", \"definitionStatusId\": \"900000000000074008\"}]', 'id': '64379006', 'moduleId': '900000000000207008', 'sctid': '64379006'}> size=2> distance=2 endNodeId='64379006' start.FSN='Excessive appetite (finding)' NameEndNode='Decrease in appetite (finding)'>]"
      ]
     },
     "execution_count": 20,
     "metadata": {},
     "output_type": "execute_result"
    }
   ],
   "source": [
    "query = \"\"\" WITH [\"249473004\",\"289161009\", \"223123009\", \"289163007\", \"64379006\"] AS endNodeIds\n",
    "            MATCH (start:SP {id: \"102608004\"}) \n",
    "            UNWIND endNodeIds AS endNodeId\n",
    "            MATCH (end:SP {id: endNodeId})\n",
    "            CALL {\n",
    "                WITH start, end\n",
    "                MATCH p = shortestPath((start)-[*..10]-(end))\n",
    "                RETURN p\n",
    "                ORDER BY length(p) ASC LIMIT 1\n",
    "            }\n",
    "            RETURN p, length(p) as distance, end.id as endNodeId, start.FSN, end.FSN as NameEndNode \"\"\"\n",
    "\n",
    "results = conn.execute_query(query)\n",
    "\n",
    "results"
   ]
  },
  {
   "cell_type": "code",
   "execution_count": null,
   "metadata": {},
   "outputs": [],
   "source": [
    "# extract the shortest path and handle codes with the exact same length "
   ]
  },
  {
   "cell_type": "code",
   "execution_count": null,
   "metadata": {},
   "outputs": [],
   "source": [
    "# examples of failed matchings in the app "
   ]
  },
  {
   "cell_type": "code",
   "execution_count": null,
   "metadata": {},
   "outputs": [],
   "source": [
    "conn.close()"
   ]
  },
  {
   "cell_type": "code",
   "execution_count": 38,
   "metadata": {},
   "outputs": [
    {
     "data": {
      "text/plain": [
       "<Record ConceptId='105000' FSN_concept='Poisoning by pharmaceutical excipient (disorder)' num_desc=8 DescendantIDs=['7895008', '55680006', '441952005', '75478009', '87858002', '25508008', '64572001', '404684003'] DescendantFSN=['Poisoning caused by drug AND/OR medicinal substance (disorder)', 'Drug overdose (disorder)', 'Poisoning caused by chemical substance (disorder)', 'Poisoning (disorder)', 'Drug-related disorder (disorder)', 'Pathological drug intoxication (disorder)', 'Disease (disorder)', 'Clinical finding (finding)']>"
      ]
     },
     "execution_count": 38,
     "metadata": {},
     "output_type": "execute_result"
    }
   ],
   "source": [
    "# extract the number of descendants and asc for each node \n",
    "\n",
    "conn = Neo4jConnection(uri, user, password)\n",
    "query = \"\"\" MATCH (c:SP)\n",
    "OPTIONAL MATCH (c)-[:ISA*]->(descendant:SP)\n",
    "WITH c, COLLECT(DISTINCT descendant.id) AS DescendantIDs, COLLECT(DISTINCT descendant.FSN) AS DescendantFSN\n",
    "RETURN c.id AS ConceptId, c.FSN AS FSN_concept,  SIZE(DescendantIDs) as num_desc, DescendantIDs, DescendantFSN\n",
    "\"\"\"\n",
    "\n",
    "results = conn.execute_query(query)\n",
    "pd.DataFrame(results).to_csv('descendants.csv', index=False)\n",
    "results[0]"
   ]
  },
  {
   "cell_type": "code",
   "execution_count": 35,
   "metadata": {},
   "outputs": [
    {
     "data": {
      "text/plain": [
       "<Record ConceptId='105000' FSN_concept='Poisoning by pharmaceutical excipient (disorder)' num_anc=0 AncestorIDs=[] AncestorFSN=[]>"
      ]
     },
     "execution_count": 35,
     "metadata": {},
     "output_type": "execute_result"
    }
   ],
   "source": [
    "conn = Neo4jConnection(uri, user, password)\n",
    "query = \"\"\" MATCH (c:SP)\n",
    "OPTIONAL MATCH (ancestor:SP)-[:ISA*]->(c)\n",
    "WITH c, COLLECT(DISTINCT ancestor.id) AS AncestorIDs, COLLECT(DISTINCT ancestor.FSN) AS AncestorFSN\n",
    "RETURN c.id AS ConceptId, c.FSN AS FSN_concept,  SIZE(AncestorIDs) as num_anc, AncestorIDs, AncestorFSN\n",
    "\"\"\"\n",
    "\n",
    "results = conn.execute_query(query)\n",
    "pd.DataFrame(results, columns=['ConceptId', 'FSN_concept', 'num_anc', 'AncestorIDs', 'AncestorFSN']).to_csv('ascendants.csv', index=False)\n",
    "results[0]"
   ]
  },
  {
   "cell_type": "code",
   "execution_count": 40,
   "metadata": {},
   "outputs": [
    {
     "data": {
      "text/html": [
       "<div>\n",
       "<style scoped>\n",
       "    .dataframe tbody tr th:only-of-type {\n",
       "        vertical-align: middle;\n",
       "    }\n",
       "\n",
       "    .dataframe tbody tr th {\n",
       "        vertical-align: top;\n",
       "    }\n",
       "\n",
       "    .dataframe thead th {\n",
       "        text-align: right;\n",
       "    }\n",
       "</style>\n",
       "<table border=\"1\" class=\"dataframe\">\n",
       "  <thead>\n",
       "    <tr style=\"text-align: right;\">\n",
       "      <th></th>\n",
       "      <th>0</th>\n",
       "      <th>1</th>\n",
       "      <th>2</th>\n",
       "      <th>3</th>\n",
       "      <th>4</th>\n",
       "    </tr>\n",
       "  </thead>\n",
       "  <tbody>\n",
       "    <tr>\n",
       "      <th>0</th>\n",
       "      <td>105000</td>\n",
       "      <td>Poisoning by pharmaceutical excipient (disorder)</td>\n",
       "      <td>0</td>\n",
       "      <td>[]</td>\n",
       "      <td>[]</td>\n",
       "    </tr>\n",
       "    <tr>\n",
       "      <th>1</th>\n",
       "      <td>109006</td>\n",
       "      <td>Anxiety disorder of childhood OR adolescence (...</td>\n",
       "      <td>11</td>\n",
       "      <td>['90790003', '83253003', '64165008', '53467004...</td>\n",
       "      <td>['Avoidant disorder of adolescence (disorder)'...</td>\n",
       "    </tr>\n",
       "    <tr>\n",
       "      <th>2</th>\n",
       "      <td>122003</td>\n",
       "      <td>Choroidal hemorrhage (disorder)</td>\n",
       "      <td>13</td>\n",
       "      <td>['193474002', '336061000119102', '341671000119...</td>\n",
       "      <td>['Choroidal hemorrhage and rupture (disorder)'...</td>\n",
       "    </tr>\n",
       "    <tr>\n",
       "      <th>3</th>\n",
       "      <td>123008</td>\n",
       "      <td>Channel catfish virus disease (disorder)</td>\n",
       "      <td>0</td>\n",
       "      <td>[]</td>\n",
       "      <td>[]</td>\n",
       "    </tr>\n",
       "    <tr>\n",
       "      <th>4</th>\n",
       "      <td>127009</td>\n",
       "      <td>Miscarriage with laceration of cervix (disorder)</td>\n",
       "      <td>0</td>\n",
       "      <td>[]</td>\n",
       "      <td>[]</td>\n",
       "    </tr>\n",
       "    <tr>\n",
       "      <th>...</th>\n",
       "      <td>...</td>\n",
       "      <td>...</td>\n",
       "      <td>...</td>\n",
       "      <td>...</td>\n",
       "      <td>...</td>\n",
       "    </tr>\n",
       "    <tr>\n",
       "      <th>179062</th>\n",
       "      <td>972604701000119104</td>\n",
       "      <td>Acquired arteriovenous malformation of vascula...</td>\n",
       "      <td>0</td>\n",
       "      <td>[]</td>\n",
       "      <td>[]</td>\n",
       "    </tr>\n",
       "    <tr>\n",
       "      <th>179063</th>\n",
       "      <td>978253001000132109</td>\n",
       "      <td>Small bowel enteroscopy normal (finding)</td>\n",
       "      <td>0</td>\n",
       "      <td>[]</td>\n",
       "      <td>[]</td>\n",
       "    </tr>\n",
       "    <tr>\n",
       "      <th>179064</th>\n",
       "      <td>985355341000119101</td>\n",
       "      <td>Malignant melanoma of skin of left wrist (diso...</td>\n",
       "      <td>0</td>\n",
       "      <td>[]</td>\n",
       "      <td>[]</td>\n",
       "    </tr>\n",
       "    <tr>\n",
       "      <th>179065</th>\n",
       "      <td>987840791000119102</td>\n",
       "      <td>Adenosine deaminase 2 deficiency (disorder)</td>\n",
       "      <td>0</td>\n",
       "      <td>[]</td>\n",
       "      <td>[]</td>\n",
       "    </tr>\n",
       "    <tr>\n",
       "      <th>179066</th>\n",
       "      <td>991898981000119108</td>\n",
       "      <td>Chronic nontraumatic intracranial subdural hem...</td>\n",
       "      <td>0</td>\n",
       "      <td>[]</td>\n",
       "      <td>[]</td>\n",
       "    </tr>\n",
       "  </tbody>\n",
       "</table>\n",
       "<p>179067 rows × 5 columns</p>\n",
       "</div>"
      ],
      "text/plain": [
       "                         0                                                  1  \\\n",
       "0                   105000   Poisoning by pharmaceutical excipient (disorder)   \n",
       "1                   109006  Anxiety disorder of childhood OR adolescence (...   \n",
       "2                   122003                    Choroidal hemorrhage (disorder)   \n",
       "3                   123008           Channel catfish virus disease (disorder)   \n",
       "4                   127009   Miscarriage with laceration of cervix (disorder)   \n",
       "...                    ...                                                ...   \n",
       "179062  972604701000119104  Acquired arteriovenous malformation of vascula...   \n",
       "179063  978253001000132109           Small bowel enteroscopy normal (finding)   \n",
       "179064  985355341000119101  Malignant melanoma of skin of left wrist (diso...   \n",
       "179065  987840791000119102        Adenosine deaminase 2 deficiency (disorder)   \n",
       "179066  991898981000119108  Chronic nontraumatic intracranial subdural hem...   \n",
       "\n",
       "         2                                                  3  \\\n",
       "0        0                                                 []   \n",
       "1       11  ['90790003', '83253003', '64165008', '53467004...   \n",
       "2       13  ['193474002', '336061000119102', '341671000119...   \n",
       "3        0                                                 []   \n",
       "4        0                                                 []   \n",
       "...     ..                                                ...   \n",
       "179062   0                                                 []   \n",
       "179063   0                                                 []   \n",
       "179064   0                                                 []   \n",
       "179065   0                                                 []   \n",
       "179066   0                                                 []   \n",
       "\n",
       "                                                        4  \n",
       "0                                                      []  \n",
       "1       ['Avoidant disorder of adolescence (disorder)'...  \n",
       "2       ['Choroidal hemorrhage and rupture (disorder)'...  \n",
       "3                                                      []  \n",
       "4                                                      []  \n",
       "...                                                   ...  \n",
       "179062                                                 []  \n",
       "179063                                                 []  \n",
       "179064                                                 []  \n",
       "179065                                                 []  \n",
       "179066                                                 []  \n",
       "\n",
       "[179067 rows x 5 columns]"
      ]
     },
     "execution_count": 40,
     "metadata": {},
     "output_type": "execute_result"
    }
   ],
   "source": [
    "ant_df = pd.read_csv('ascendants.csv')\n",
    "des_df = pd.read_csv('descendants.csv')\n",
    "ant_df"
   ]
  },
  {
   "cell_type": "code",
   "execution_count": 42,
   "metadata": {},
   "outputs": [],
   "source": [
    "ant_df.columns = ['ConceptId', 'FSN_concept', 'num_anc', 'AncestorIDs', 'AncestorFSN']\n",
    "des_df.columns = ['ConceptId', 'FSN_concept', 'num_des', 'DescendantIDs', 'DescendantFSN']"
   ]
  },
  {
   "cell_type": "code",
   "execution_count": 36,
   "metadata": {},
   "outputs": [
    {
     "data": {
      "text/plain": [
       "([True, True], 1.0)"
      ]
     },
     "execution_count": 36,
     "metadata": {},
     "output_type": "execute_result"
    }
   ],
   "source": [
    "import numpy as np\n",
    "\n",
    "def compute_similar_names(name, l):\n",
    "    sim = []\n",
    "    for i in l:\n",
    "        s = False\n",
    "        c=0\n",
    "        x = True if name in i else False\n",
    "        if x: \n",
    "            s = True\n",
    "        \n",
    "        tk_name = name.lower().split()\n",
    "        for k in tk_name:\n",
    "            c += 1 if k in i else 0\n",
    "        \n",
    "        if c/len(tk_name)>=0.5:\n",
    "            s = True\n",
    "        \n",
    "        sim.append(s)\n",
    "    np.mean(sim)\n",
    "    return sim, np.mean(sim)\n",
    "\n",
    "compute_similar_names('aina tersol', ['aina', 'aina goes to schol'])"
   ]
  },
  {
   "cell_type": "code",
   "execution_count": 44,
   "metadata": {},
   "outputs": [],
   "source": [
    "ant_df[['sim', 'mean']] = ant_df.apply(lambda x: compute_similar_names(x['FSN_concept'], x['AncestorFSN']), axis=1)\n",
    "ant_df"
   ]
  },
  {
   "cell_type": "code",
   "execution_count": null,
   "metadata": {},
   "outputs": [],
   "source": [
    "des_df[['sim', 'mean']] = des_df.apply(lambda x: compute_similar_names(x['FSN_concept'], x['DescendantFSN']), axis=1)\n",
    "des_df"
   ]
  }
 ],
 "metadata": {
  "kernelspec": {
   "display_name": "Python 3",
   "language": "python",
   "name": "python3"
  },
  "language_info": {
   "codemirror_mode": {
    "name": "ipython",
    "version": 3
   },
   "file_extension": ".py",
   "mimetype": "text/x-python",
   "name": "python",
   "nbconvert_exporter": "python",
   "pygments_lexer": "ipython3",
   "version": "3.9.7"
  }
 },
 "nbformat": 4,
 "nbformat_minor": 2
}
