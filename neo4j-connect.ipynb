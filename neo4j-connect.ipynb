{
 "cells": [
  {
   "cell_type": "code",
   "execution_count": 1,
   "metadata": {},
   "outputs": [
    {
     "name": "stdout",
     "output_type": "stream",
     "text": [
      "Collecting neo4j\n",
      "  Downloading neo4j-5.14.1.tar.gz (192 kB)\n",
      "\u001b[K     |████████████████████████████████| 192 kB 2.9 MB/s eta 0:00:01\n",
      "\u001b[?25h  Installing build dependencies ... \u001b[?25ldone\n",
      "\u001b[?25h  Getting requirements to build wheel ... \u001b[?25ldone\n",
      "\u001b[?25h  Installing backend dependencies ... \u001b[?25ldone\n",
      "\u001b[?25h    Preparing wheel metadata ... \u001b[?25ldone\n",
      "\u001b[?25hRequirement already satisfied: pytz in /Users/aina/opt/anaconda3/lib/python3.9/site-packages (from neo4j) (2021.3)\n",
      "Building wheels for collected packages: neo4j\n",
      "  Building wheel for neo4j (PEP 517) ... \u001b[?25ldone\n",
      "\u001b[?25h  Created wheel for neo4j: filename=neo4j-5.14.1-py3-none-any.whl size=267560 sha256=81061a0290307a1e7e3db10e9d78871bfe7e3d4c60645883336dc6e8320b3aae\n",
      "  Stored in directory: /Users/aina/Library/Caches/pip/wheels/42/c9/78/0502da872e8cc63f812e6d68e2eb661e486f4a5b7ef2731da6\n",
      "Successfully built neo4j\n",
      "Installing collected packages: neo4j\n",
      "Successfully installed neo4j-5.14.1\n"
     ]
    }
   ],
   "source": [
    "!pip install neo4j"
   ]
  },
  {
   "cell_type": "code",
   "execution_count": 2,
   "metadata": {},
   "outputs": [],
   "source": [
    "from neo4j import GraphDatabase"
   ]
  },
  {
   "cell_type": "code",
   "execution_count": 7,
   "metadata": {},
   "outputs": [],
   "source": [
    "uri = \"neo4j://localhost:7687\"  # Replace with your URI \n",
    "user = \"neo4j\"                 # Replace with your username\n",
    "password = \"19091998\"          # Replace with your password\n",
    "\n",
    "driver = GraphDatabase.driver(uri, auth=(user, password))"
   ]
  },
  {
   "cell_type": "code",
   "execution_count": 11,
   "metadata": {},
   "outputs": [],
   "source": [
    "class Neo4jConnection:\n",
    "    \n",
    "    def __init__(self, uri, user, password):\n",
    "        self.__uri = uri\n",
    "        self.__user = user\n",
    "        self.__password = password\n",
    "        self.__driver = None\n",
    "        try:\n",
    "            self.__driver = GraphDatabase.driver(self.__uri, auth=(self.__user, self.__password))\n",
    "        except Exception as e:\n",
    "            print(\"Failed to create the driver:\", e)\n",
    "        \n",
    "    def close(self):\n",
    "        if self.__driver is not None:\n",
    "            self.__driver.close()\n",
    "        \n",
    "    def execute_query(self, query):\n",
    "        if self.__driver is not None:\n",
    "            with self.__driver.session() as session:\n",
    "                return [record for record in session.run(query)]\n"
   ]
  },
  {
   "cell_type": "code",
   "execution_count": null,
   "metadata": {},
   "outputs": [],
   "source": [
    "# label fields in the snomed ct graph\n",
    "\n",
    "q = \"\"\" MATCH (n:ObjectConcept)WHERE (n.FSN ENDS WITH '(finding)' or n.FSN ENDS WITH '(disorder)' )\n",
    "        SET n:SP\n",
    "        RETURN n LIMIT 10 \"\"\""
   ]
  },
  {
   "cell_type": "code",
   "execution_count": 21,
   "metadata": {},
   "outputs": [
    {
     "data": {
      "text/plain": [
       "'Poisoning by pharmaceutical excipient, NOS'"
      ]
     },
     "execution_count": 21,
     "metadata": {},
     "output_type": "execute_result"
    }
   ],
   "source": [
    "conn = Neo4jConnection(uri, user, password)\n",
    "\n",
    "query = \"\"\" MATCH (c:SP)-[:HAS_DESCRIPTION]->(d:Description)\n",
    "            WHERE d.descriptionType = 'Synonym'\n",
    "            RETURN c.id AS ConceptId, c.FSN AS FSN_concept, d.term AS Synonym\n",
    "\"\"\"\n",
    "\n",
    "results = conn.execute_query(query)\n",
    "\n",
    "results[0]['Synonym']"
   ]
  },
  {
   "cell_type": "code",
   "execution_count": null,
   "metadata": {},
   "outputs": [],
   "source": [
    "# Run faiss indexing on all the synonyms, find most similar word"
   ]
  },
  {
   "cell_type": "code",
   "execution_count": null,
   "metadata": {},
   "outputs": [],
   "source": [
    "# find node belonging to the synonym"
   ]
  },
  {
   "cell_type": "code",
   "execution_count": 18,
   "metadata": {},
   "outputs": [
    {
     "name": "stderr",
     "output_type": "stream",
     "text": [
      "/var/folders/fy/m2y3wbmn1lbcwm2rl2s60d_h0000gp/T/ipykernel_75512/1971303142.py:19: DeprecationWarning: Using a driver after it has been closed is deprecated. Future versions of the driver will raise an error.\n",
      "  with self.__driver.session() as session:\n"
     ]
    },
    {
     "name": "stdout",
     "output_type": "stream",
     "text": [
      "<Record distance=3>\n"
     ]
    }
   ],
   "source": [
    "# Find shortest path between concepts \n",
    "query = \"\"\" MATCH p = shortestPath((start:SP {id: \"249473004\"})-[*..10]-(end:SP {id: \"102608004\"}))\n",
    "            RETURN length(p) as distance \"\"\"\n",
    "\n",
    "results = conn.execute_query(query)\n",
    "\n",
    "for record in results:\n",
    "    print(record)"
   ]
  },
  {
   "cell_type": "code",
   "execution_count": 20,
   "metadata": {},
   "outputs": [
    {
     "name": "stderr",
     "output_type": "stream",
     "text": [
      "/var/folders/fy/m2y3wbmn1lbcwm2rl2s60d_h0000gp/T/ipykernel_75512/1971303142.py:19: DeprecationWarning: Using a driver after it has been closed is deprecated. Future versions of the driver will raise an error.\n",
      "  with self.__driver.session() as session:\n"
     ]
    },
    {
     "data": {
      "text/plain": [
       "[<Record p=<Path start=<Node element_id='4:0c414c0f-b769-4d23-ad25-650efdf1893b:99185' labels=frozenset({'Finding', 'SP', 'SPFindings', 'ObjectConcept'}) properties={'FSN': 'Excessive appetite (finding)', 'nodetype': 'concept', 'effectiveTime': '20080731', 'definitionStatusId': '900000000000073002', 'active': '1', 'history': '[{\"id\": \"102608004\", \"effectiveTime\": \"20020131\", \"active\": \"1\", \"moduleId\": \"900000000000207008\", \"definitionStatusId\": \"900000000000074008\"}]', 'id': '102608004', 'moduleId': '900000000000207008', 'sctid': '102608004'}> end=<Node element_id='4:0c414c0f-b769-4d23-ad25-650efdf1893b:240538' labels=frozenset({'Finding', 'SP', 'SPFindings', 'ObjectConcept'}) properties={'FSN': 'Altered appetite (finding)', 'nodetype': 'concept', 'effectiveTime': '20080731', 'definitionStatusId': '900000000000073002', 'active': '1', 'history': '[{\"id\": \"249473004\", \"effectiveTime\": \"20020131\", \"active\": \"1\", \"moduleId\": \"900000000000207008\", \"definitionStatusId\": \"900000000000074008\"}]', 'id': '249473004', 'moduleId': '900000000000207008', 'sctid': '249473004'}> size=3> distance=3 endNodeId='249473004' start.FSN='Excessive appetite (finding)' NameEndNode='Altered appetite (finding)'>,\n",
       " <Record p=<Path start=<Node element_id='4:0c414c0f-b769-4d23-ad25-650efdf1893b:99185' labels=frozenset({'Finding', 'SP', 'SPFindings', 'ObjectConcept'}) properties={'FSN': 'Excessive appetite (finding)', 'nodetype': 'concept', 'effectiveTime': '20080731', 'definitionStatusId': '900000000000073002', 'active': '1', 'history': '[{\"id\": \"102608004\", \"effectiveTime\": \"20020131\", \"active\": \"1\", \"moduleId\": \"900000000000207008\", \"definitionStatusId\": \"900000000000074008\"}]', 'id': '102608004', 'moduleId': '900000000000207008', 'sctid': '102608004'}> end=<Node element_id='4:0c414c0f-b769-4d23-ad25-650efdf1893b:279263' labels=frozenset({'Finding', 'SP', 'SPFindings', 'ObjectConcept'}) properties={'FSN': 'Finding of appetite (finding)', 'nodetype': 'concept', 'effectiveTime': '20080731', 'definitionStatusId': '900000000000073002', 'active': '1', 'history': '[{\"id\": \"289161009\", \"effectiveTime\": \"20020131\", \"active\": \"1\", \"moduleId\": \"900000000000207008\", \"definitionStatusId\": \"900000000000074008\"}]', 'id': '289161009', 'moduleId': '900000000000207008', 'sctid': '289161009'}> size=2> distance=2 endNodeId='289161009' start.FSN='Excessive appetite (finding)' NameEndNode='Finding of appetite (finding)'>,\n",
       " <Record p=<Path start=<Node element_id='4:0c414c0f-b769-4d23-ad25-650efdf1893b:99185' labels=frozenset({'Finding', 'SP', 'SPFindings', 'ObjectConcept'}) properties={'FSN': 'Excessive appetite (finding)', 'nodetype': 'concept', 'effectiveTime': '20080731', 'definitionStatusId': '900000000000073002', 'active': '1', 'history': '[{\"id\": \"102608004\", \"effectiveTime\": \"20020131\", \"active\": \"1\", \"moduleId\": \"900000000000207008\", \"definitionStatusId\": \"900000000000074008\"}]', 'id': '102608004', 'moduleId': '900000000000207008', 'sctid': '102608004'}> end=<Node element_id='4:0c414c0f-b769-4d23-ad25-650efdf1893b:214199' labels=frozenset({'SP', 'Disorder', 'SPFindings', 'ObjectConcept'}) properties={'FSN': '[X]Appetite depressants [anorectics] causing adverse effects in therapeutic use (disorder)', 'nodetype': 'concept', 'effectiveTime': '20090131', 'definitionStatusId': '900000000000074008', 'active': '0', 'history': '[{\"id\": \"223123009\", \"effectiveTime\": \"20020131\", \"active\": \"1\", \"moduleId\": \"900000000000207008\", \"definitionStatusId\": \"900000000000074008\"}]', 'id': '223123009', 'moduleId': '900000000000207008', 'sctid': '223123009'}> size=7> distance=7 endNodeId='223123009' start.FSN='Excessive appetite (finding)' NameEndNode='[X]Appetite depressants [anorectics] causing adverse effects in therapeutic use (disorder)'>,\n",
       " <Record p=<Path start=<Node element_id='4:0c414c0f-b769-4d23-ad25-650efdf1893b:99185' labels=frozenset({'Finding', 'SP', 'SPFindings', 'ObjectConcept'}) properties={'FSN': 'Excessive appetite (finding)', 'nodetype': 'concept', 'effectiveTime': '20080731', 'definitionStatusId': '900000000000073002', 'active': '1', 'history': '[{\"id\": \"102608004\", \"effectiveTime\": \"20020131\", \"active\": \"1\", \"moduleId\": \"900000000000207008\", \"definitionStatusId\": \"900000000000074008\"}]', 'id': '102608004', 'moduleId': '900000000000207008', 'sctid': '102608004'}> end=<Node element_id='4:0c414c0f-b769-4d23-ad25-650efdf1893b:279265' labels=frozenset({'Finding', 'SP', 'SPFindings', 'ObjectConcept'}) properties={'FSN': 'Appetite problem (finding)', 'nodetype': 'concept', 'effectiveTime': '20020131', 'definitionStatusId': '900000000000074008', 'active': '1', 'history': '', 'id': '289163007', 'moduleId': '900000000000207008', 'sctid': '289163007'}> size=3> distance=3 endNodeId='289163007' start.FSN='Excessive appetite (finding)' NameEndNode='Appetite problem (finding)'>,\n",
       " <Record p=<Path start=<Node element_id='4:0c414c0f-b769-4d23-ad25-650efdf1893b:99185' labels=frozenset({'Finding', 'SP', 'SPFindings', 'ObjectConcept'}) properties={'FSN': 'Excessive appetite (finding)', 'nodetype': 'concept', 'effectiveTime': '20080731', 'definitionStatusId': '900000000000073002', 'active': '1', 'history': '[{\"id\": \"102608004\", \"effectiveTime\": \"20020131\", \"active\": \"1\", \"moduleId\": \"900000000000207008\", \"definitionStatusId\": \"900000000000074008\"}]', 'id': '102608004', 'moduleId': '900000000000207008', 'sctid': '102608004'}> end=<Node element_id='4:0c414c0f-b769-4d23-ad25-650efdf1893b:64277' labels=frozenset({'Finding', 'SP', 'SPFindings', 'ObjectConcept'}) properties={'FSN': 'Decrease in appetite (finding)', 'nodetype': 'concept', 'effectiveTime': '20080731', 'definitionStatusId': '900000000000073002', 'active': '1', 'history': '[{\"id\": \"64379006\", \"effectiveTime\": \"20020131\", \"active\": \"1\", \"moduleId\": \"900000000000207008\", \"definitionStatusId\": \"900000000000074008\"}]', 'id': '64379006', 'moduleId': '900000000000207008', 'sctid': '64379006'}> size=2> distance=2 endNodeId='64379006' start.FSN='Excessive appetite (finding)' NameEndNode='Decrease in appetite (finding)'>]"
      ]
     },
     "execution_count": 20,
     "metadata": {},
     "output_type": "execute_result"
    }
   ],
   "source": [
    "query = \"\"\" WITH [\"249473004\",\"289161009\", \"223123009\", \"289163007\", \"64379006\"] AS endNodeIds\n",
    "            MATCH (start:SP {id: \"102608004\"}) \n",
    "            UNWIND endNodeIds AS endNodeId\n",
    "            MATCH (end:SP {id: endNodeId})\n",
    "            CALL {\n",
    "                WITH start, end\n",
    "                MATCH p = shortestPath((start)-[*..10]-(end))\n",
    "                RETURN p\n",
    "                ORDER BY length(p) ASC LIMIT 1\n",
    "            }\n",
    "            RETURN p, length(p) as distance, end.id as endNodeId, start.FSN, end.FSN as NameEndNode \"\"\"\n",
    "\n",
    "results = conn.execute_query(query)\n",
    "\n",
    "results"
   ]
  },
  {
   "cell_type": "code",
   "execution_count": null,
   "metadata": {},
   "outputs": [],
   "source": [
    "# extract the shortest path and handle codes with the exact same length "
   ]
  },
  {
   "cell_type": "code",
   "execution_count": null,
   "metadata": {},
   "outputs": [],
   "source": [
    "# examples of failed matchings in the app "
   ]
  },
  {
   "cell_type": "code",
   "execution_count": null,
   "metadata": {},
   "outputs": [],
   "source": [
    "conn.close()"
   ]
  }
 ],
 "metadata": {
  "kernelspec": {
   "display_name": "Python 3",
   "language": "python",
   "name": "python3"
  },
  "language_info": {
   "codemirror_mode": {
    "name": "ipython",
    "version": 3
   },
   "file_extension": ".py",
   "mimetype": "text/x-python",
   "name": "python",
   "nbconvert_exporter": "python",
   "pygments_lexer": "ipython3",
   "version": "3.9.7"
  }
 },
 "nbformat": 4,
 "nbformat_minor": 2
}
