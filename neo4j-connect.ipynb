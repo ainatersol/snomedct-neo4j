{
 "cells": [
  {
   "cell_type": "code",
   "execution_count": 1,
   "metadata": {},
   "outputs": [
    {
     "name": "stdout",
     "output_type": "stream",
     "text": [
      "Collecting neo4j\n",
      "  Downloading neo4j-5.14.1.tar.gz (192 kB)\n",
      "\u001b[K     |████████████████████████████████| 192 kB 2.9 MB/s eta 0:00:01\n",
      "\u001b[?25h  Installing build dependencies ... \u001b[?25ldone\n",
      "\u001b[?25h  Getting requirements to build wheel ... \u001b[?25ldone\n",
      "\u001b[?25h  Installing backend dependencies ... \u001b[?25ldone\n",
      "\u001b[?25h    Preparing wheel metadata ... \u001b[?25ldone\n",
      "\u001b[?25hRequirement already satisfied: pytz in /Users/aina/opt/anaconda3/lib/python3.9/site-packages (from neo4j) (2021.3)\n",
      "Building wheels for collected packages: neo4j\n",
      "  Building wheel for neo4j (PEP 517) ... \u001b[?25ldone\n",
      "\u001b[?25h  Created wheel for neo4j: filename=neo4j-5.14.1-py3-none-any.whl size=267560 sha256=81061a0290307a1e7e3db10e9d78871bfe7e3d4c60645883336dc6e8320b3aae\n",
      "  Stored in directory: /Users/aina/Library/Caches/pip/wheels/42/c9/78/0502da872e8cc63f812e6d68e2eb661e486f4a5b7ef2731da6\n",
      "Successfully built neo4j\n",
      "Installing collected packages: neo4j\n",
      "Successfully installed neo4j-5.14.1\n"
     ]
    }
   ],
   "source": [
    "!pip install neo4j"
   ]
  },
  {
   "cell_type": "code",
   "execution_count": 2,
   "metadata": {},
   "outputs": [],
   "source": [
    "from neo4j import GraphDatabase"
   ]
  },
  {
   "cell_type": "code",
   "execution_count": 7,
   "metadata": {},
   "outputs": [],
   "source": [
    "uri = \"neo4j://localhost:7687\"  # Replace with your URI \n",
    "user = \"neo4j\"                 # Replace with your username\n",
    "password = \"19091998\"          # Replace with your password\n",
    "\n",
    "driver = GraphDatabase.driver(uri, auth=(user, password))"
   ]
  },
  {
   "cell_type": "code",
   "execution_count": 11,
   "metadata": {},
   "outputs": [],
   "source": [
    "class Neo4jConnection:\n",
    "    \n",
    "    def __init__(self, uri, user, password):\n",
    "        self.__uri = uri\n",
    "        self.__user = user\n",
    "        self.__password = password\n",
    "        self.__driver = None\n",
    "        try:\n",
    "            self.__driver = GraphDatabase.driver(self.__uri, auth=(self.__user, self.__password))\n",
    "        except Exception as e:\n",
    "            print(\"Failed to create the driver:\", e)\n",
    "        \n",
    "    def close(self):\n",
    "        if self.__driver is not None:\n",
    "            self.__driver.close()\n",
    "        \n",
    "    def execute_query(self, query):\n",
    "        if self.__driver is not None:\n",
    "            with self.__driver.session() as session:\n",
    "                return [record for record in session.run(query)]\n"
   ]
  },
  {
   "cell_type": "code",
   "execution_count": 12,
   "metadata": {},
   "outputs": [
    {
     "name": "stdout",
     "output_type": "stream",
     "text": [
      "<Record n=<Node element_id='4:0c414c0f-b769-4d23-ad25-650efdf1893b:0' labels=frozenset({'ObjectConcept'}) properties={'FSN': 'SNOMED RT Concept (special concept)', 'nodetype': 'concept', 'effectiveTime': '20020131', 'definitionStatusId': '900000000000074008', 'active': '0', 'history': '', 'id': '100005', 'moduleId': '900000000000207008', 'sctid': '100005'}>>\n",
      "<Record n=<Node element_id='4:0c414c0f-b769-4d23-ad25-650efdf1893b:1' labels=frozenset({'Organism', 'ObjectConcept'}) properties={'FSN': 'Quilonia ethiopica (organism)', 'nodetype': 'concept', 'effectiveTime': '20020131', 'definitionStatusId': '900000000000074008', 'active': '1', 'history': '', 'id': '101009', 'moduleId': '900000000000207008', 'sctid': '101009'}>>\n",
      "<Record n=<Node element_id='4:0c414c0f-b769-4d23-ad25-650efdf1893b:2' labels=frozenset({'Substance', 'ObjectConcept'}) properties={'FSN': 'Hemoglobin Okaloosa (substance)', 'nodetype': 'concept', 'effectiveTime': '20020131', 'definitionStatusId': '900000000000074008', 'active': '1', 'history': '', 'id': '102002', 'moduleId': '900000000000207008', 'sctid': '102002'}>>\n",
      "<Record n=<Node element_id='4:0c414c0f-b769-4d23-ad25-650efdf1893b:3' labels=frozenset({'Organism', 'ObjectConcept'}) properties={'FSN': 'Squirrel fibroma virus (organism)', 'nodetype': 'concept', 'effectiveTime': '20020131', 'definitionStatusId': '900000000000074008', 'active': '1', 'history': '', 'id': '103007', 'moduleId': '900000000000207008', 'sctid': '103007'}>>\n",
      "<Record n=<Node element_id='4:0c414c0f-b769-4d23-ad25-650efdf1893b:4' labels=frozenset({'Procedure', 'ObjectConcept'}) properties={'FSN': 'Excision of lesion of patella (procedure)', 'nodetype': 'concept', 'effectiveTime': '20020131', 'definitionStatusId': '900000000000073002', 'active': '1', 'history': '', 'id': '104001', 'moduleId': '900000000000207008', 'sctid': '104001'}>>\n",
      "<Record n=<Node element_id='4:0c414c0f-b769-4d23-ad25-650efdf1893b:5' labels=frozenset({'SP', 'Disorder', 'ObjectConcept'}) properties={'FSN': 'Poisoning by pharmaceutical excipient (disorder)', 'nodetype': 'concept', 'effectiveTime': '20040731', 'definitionStatusId': '900000000000074008', 'active': '0', 'history': '[{\"id\": \"105000\", \"effectiveTime\": \"20020131\", \"active\": \"1\", \"moduleId\": \"900000000000207008\", \"definitionStatusId\": \"900000000000074008\"}]', 'id': '105000', 'moduleId': '900000000000207008', 'sctid': '105000'}>>\n",
      "<Record n=<Node element_id='4:0c414c0f-b769-4d23-ad25-650efdf1893b:6' labels=frozenset({'BodyStructure', 'ObjectConcept'}) properties={'FSN': 'Structure of posterior carpal region (body structure)', 'nodetype': 'concept', 'effectiveTime': '20020131', 'definitionStatusId': '900000000000074008', 'active': '1', 'history': '', 'id': '106004', 'moduleId': '900000000000207008', 'sctid': '106004'}>>\n",
      "<Record n=<Node element_id='4:0c414c0f-b769-4d23-ad25-650efdf1893b:7' labels=frozenset({'BodyStructure', 'ObjectConcept'}) properties={'FSN': 'Structure of fetal part of placenta (body structure)', 'nodetype': 'concept', 'effectiveTime': '20020131', 'definitionStatusId': '900000000000074008', 'active': '1', 'history': '', 'id': '107008', 'moduleId': '900000000000207008', 'sctid': '107008'}>>\n",
      "<Record n=<Node element_id='4:0c414c0f-b769-4d23-ad25-650efdf1893b:8' labels=frozenset({'BodyStructure', 'ObjectConcept'}) properties={'FSN': 'Entire condylar emissary vein (body structure)', 'nodetype': 'concept', 'effectiveTime': '20020131', 'definitionStatusId': '900000000000074008', 'active': '1', 'history': '', 'id': '108003', 'moduleId': '900000000000207008', 'sctid': '108003'}>>\n",
      "<Record n=<Node element_id='4:0c414c0f-b769-4d23-ad25-650efdf1893b:9' labels=frozenset({'SP', 'Disorder', 'ObjectConcept'}) properties={'FSN': 'Anxiety disorder of childhood OR adolescence (disorder)', 'nodetype': 'concept', 'effectiveTime': '20020131', 'definitionStatusId': '900000000000074008', 'active': '1', 'history': '', 'id': '109006', 'moduleId': '900000000000207008', 'sctid': '109006'}>>\n"
     ]
    }
   ],
   "source": [
    "conn = Neo4jConnection(uri, user, password)\n",
    "\n",
    "query = \"MATCH (n) RETURN n LIMIT 10\"\n",
    "results = conn.execute_query(query)\n",
    "\n",
    "for record in results:\n",
    "    print(record)\n",
    "\n",
    "conn.close()"
   ]
  },
  {
   "cell_type": "code",
   "execution_count": null,
   "metadata": {},
   "outputs": [],
   "source": []
  }
 ],
 "metadata": {
  "kernelspec": {
   "display_name": "Python 3",
   "language": "python",
   "name": "python3"
  },
  "language_info": {
   "codemirror_mode": {
    "name": "ipython",
    "version": 3
   },
   "file_extension": ".py",
   "mimetype": "text/x-python",
   "name": "python",
   "nbconvert_exporter": "python",
   "pygments_lexer": "ipython3",
   "version": "3.9.7"
  }
 },
 "nbformat": 4,
 "nbformat_minor": 2
}
